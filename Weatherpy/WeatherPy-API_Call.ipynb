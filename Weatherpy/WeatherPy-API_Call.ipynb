{
 "cells": [
  {
   "cell_type": "code",
   "execution_count": 59,
   "metadata": {},
   "outputs": [],
   "source": [
    "# Import dependencies\n",
    "import requests\n",
    "import json\n",
    "from config import api_key\n",
    "import pandas as pd\n",
    "import numpy as np\n",
    "from citipy import citipy"
   ]
  },
  {
   "cell_type": "code",
   "execution_count": 60,
   "metadata": {},
   "outputs": [],
   "source": [
    "# Define lat and long min/max. -180 = 180 W, 180 = 180 E\n",
    "lat_range = (-90.000, 90.000)\n",
    "lng_range = (-180.000, 180.000)\n",
    "\n",
    "# Create list of random latitude, longitude pairs\n",
    "lat_values = np.random.uniform(lat_range[0], lat_range[1], 1500)\n",
    "lng_values = np.random.uniform(lng_range[0], lng_range[1], 1500)\n",
    "lat_lng = list(zip(lat_values, lng_values))"
   ]
  },
  {
   "cell_type": "code",
   "execution_count": 61,
   "metadata": {},
   "outputs": [],
   "source": [
    "# Create empty list of cities\n",
    "cities = []\n",
    "\n",
    "# Use citipy API to get nearest city to random coordinates, append to cities list\n",
    "for lat_lng in lat_lng:\n",
    "    city = citipy.nearest_city(lat_lng[0], lat_lng[1]).city_name\n",
    "    if city not in cities:\n",
    "        cities.append(city)\n",
    "        \n"
   ]
  },
  {
   "cell_type": "code",
   "execution_count": 62,
   "metadata": {},
   "outputs": [
    {
     "data": {
      "text/plain": [
       "599"
      ]
     },
     "execution_count": 62,
     "metadata": {},
     "output_type": "execute_result"
    }
   ],
   "source": [
    "# Make sure the list of cities is greater than 500\n",
    "len(cities)"
   ]
  },
  {
   "cell_type": "code",
   "execution_count": 64,
   "metadata": {},
   "outputs": [
    {
     "name": "stdout",
     "output_type": "stream",
     "text": [
      "{\n",
      "    \"base\": \"stations\",\n",
      "    \"clouds\": {\n",
      "        \"all\": 92\n",
      "    },\n",
      "    \"cod\": 200,\n",
      "    \"coord\": {\n",
      "        \"lat\": 51.51,\n",
      "        \"lon\": -0.13\n",
      "    },\n",
      "    \"dt\": 1603652129,\n",
      "    \"id\": 2643743,\n",
      "    \"main\": {\n",
      "        \"feels_like\": 42.06,\n",
      "        \"humidity\": 76,\n",
      "        \"pressure\": 996,\n",
      "        \"temp\": 49.08,\n",
      "        \"temp_max\": 51.8,\n",
      "        \"temp_min\": 48\n",
      "    },\n",
      "    \"name\": \"London\",\n",
      "    \"sys\": {\n",
      "        \"country\": \"GB\",\n",
      "        \"id\": 1414,\n",
      "        \"sunrise\": 1603608130,\n",
      "        \"sunset\": 1603644401,\n",
      "        \"type\": 1\n",
      "    },\n",
      "    \"timezone\": 0,\n",
      "    \"visibility\": 10000,\n",
      "    \"weather\": [\n",
      "        {\n",
      "            \"description\": \"overcast clouds\",\n",
      "            \"icon\": \"04n\",\n",
      "            \"id\": 804,\n",
      "            \"main\": \"Clouds\"\n",
      "        }\n",
      "    ],\n",
      "    \"wind\": {\n",
      "        \"deg\": 200,\n",
      "        \"speed\": 9.17\n",
      "    }\n",
      "}\n"
     ]
    }
   ],
   "source": [
    "# Use openweather API call for single city to determine how to access needed information\n",
    "city = 'london'\n",
    "url = f'https://api.openweathermap.org/data/2.5/weather?q={city}&appid={api_key}&units=imperial'\n",
    "response = requests.get(url).json()\n",
    "print(json.dumps(response, indent=4, sort_keys=True))"
   ]
  },
  {
   "cell_type": "code",
   "execution_count": 69,
   "metadata": {},
   "outputs": [
    {
     "data": {
      "text/plain": [
       "83"
      ]
     },
     "execution_count": 69,
     "metadata": {},
     "output_type": "execute_result"
    }
   ],
   "source": [
    "# Create and open datalog to hold search process output, APIdata to hold data needed data from API call\n",
    "\n",
    "datalog = open('weatherAPI_printlog.txt', 'w', encoding=\"utf-8\")\n",
    "APIdata = open('weatherAPI_data.csv', 'w', encoding=\"utf-8\")\n",
    "\n",
    "# Add column names as header in csv\n",
    "APIdata.write(\"City,City_ID,Country,Latitude,Longitude,Temperature,Humidity,Cloudiness,Wind_Speed\\n\")"
   ]
  },
  {
   "cell_type": "code",
   "execution_count": 70,
   "metadata": {},
   "outputs": [],
   "source": [
    "# Assign base url and create empty lists for all data I want to collect\n",
    "\n",
    "base_url = f'https://api.openweathermap.org/data/2.5/weather?q={city}&appid={api_key}&units=imperial'\n",
    "\n",
    "city_name = []\n",
    "city_id = []\n",
    "country = []\n",
    "lat = []\n",
    "lng = []\n",
    "temp = []\n",
    "humidity = []\n",
    "cloudiness = []\n",
    "wind_speed = []\n",
    "\n",
    "# Do API call within for loop to get data for each city in cities list, assign desired info to variables then append to the \n",
    "# appropriate empty list\n",
    "\n",
    "for city in cities:\n",
    "    base_url = f'https://api.openweathermap.org/data/2.5/weather?q={city}&appid={api_key}&units=imperial'\n",
    "    response = requests.get(base_url).json()\n",
    "    try:\n",
    "        city_name1 = response['name']\n",
    "        city_id1 = int(response['id'])\n",
    "        country1 = response['sys']['country']\n",
    "        lat1 = response['coord']['lat']\n",
    "        lng1 = response['coord']['lon']\n",
    "        temp1 = response['main']['temp']\n",
    "        humidity1 = response['main']['humidity']\n",
    "        cloudiness1 = response['clouds']['all']\n",
    "        wind_speed1 = response['wind']['speed']\n",
    "        \n",
    "        city_name.append(city_name1)\n",
    "        city_id.append(city_id1)\n",
    "        country.append(country1)\n",
    "        lat.append(lat1)\n",
    "        lng.append(lng1)\n",
    "        temp.append(temp1)\n",
    "        humidity.append(humidity1)\n",
    "        cloudiness.append(cloudiness1)\n",
    "        wind_speed.append(wind_speed1)\n",
    "        \n",
    "# Write API process to datalog and results to APIdata csv\n",
    "        \n",
    "        datalog.write(f\"{city_name1} with City ID {city_id1} was found\\n\")\n",
    "        \n",
    "        APIdata.write(f\"{city_name1}, {city_id1}, {country1}, {lat1}, {lng1}, {temp1}, {humidity1}, {cloudiness1}, {wind_speed1}\\n\")\n",
    "\n",
    "# Use exception to handle missing data\n",
    "        \n",
    "    except:\n",
    "        datalog.write(f\"{city} was not found\\n\")\n",
    "        \n",
    "        city_name.append(None)\n",
    "        city_id.append(None)\n",
    "        country.append(None)\n",
    "        lat.append(None)\n",
    "        lng.append(None)\n",
    "        temp.append(None)\n",
    "        humidity.append(None)\n",
    "        cloudiness.append(None)\n",
    "        wind_speed.append(None)\n",
    "\n",
    "# Close datalog and APIdata files        \n",
    "        \n",
    "datalog.close()\n",
    "APIdata.close()\n",
    "                      "
   ]
  },
  {
   "cell_type": "markdown",
   "metadata": {},
   "source": [
    "To prevent any chance of altering my city data while doing my plots I chose to do them in a seperate notebook using the csv created by the above API call."
   ]
  },
  {
   "cell_type": "code",
   "execution_count": null,
   "metadata": {},
   "outputs": [],
   "source": []
  }
 ],
 "metadata": {
  "kernelspec": {
   "display_name": "Python [conda env:PythonData] *",
   "language": "python",
   "name": "conda-env-PythonData-py"
  },
  "language_info": {
   "codemirror_mode": {
    "name": "ipython",
    "version": 3
   },
   "file_extension": ".py",
   "mimetype": "text/x-python",
   "name": "python",
   "nbconvert_exporter": "python",
   "pygments_lexer": "ipython3",
   "version": "3.6.10"
  }
 },
 "nbformat": 4,
 "nbformat_minor": 4
}
